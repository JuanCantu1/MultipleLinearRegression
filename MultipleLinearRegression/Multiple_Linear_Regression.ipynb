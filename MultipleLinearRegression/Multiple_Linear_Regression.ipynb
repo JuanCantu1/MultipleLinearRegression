{
  "nbformat": 4,
  "nbformat_minor": 0,
  "metadata": {
    "colab": {
      "provenance": []
    },
    "kernelspec": {
      "name": "python3",
      "display_name": "Python 3"
    },
    "language_info": {
      "name": "python"
    }
  },
  "cells": [
    {
      "cell_type": "code",
      "execution_count": null,
      "metadata": {
        "id": "DTnXsDJSUb6x"
      },
      "outputs": [],
      "source": [
        "import numpy as np\n",
        "import matplotlib.pyplot as plt\n",
        "import pandas as pd\n",
        "import seaborn as sns\n",
        "%matplotlib inline"
      ]
    },
    {
      "cell_type": "code",
      "source": [
        "# Importing the dataset and Extracting the Independent and Dependent variables\n",
        "companies = pd.read_csv(\"/content/1000_Companies.csv\")\n",
        "X = companies.iloc[:, :-1].values\n",
        "y = companies.iloc[:, 4].values\n",
        "\n",
        "companies.head()"
      ],
      "metadata": {
        "colab": {
          "base_uri": "https://localhost:8080/",
          "height": 206
        },
        "id": "NTeZ95q-rCOE",
        "outputId": "e664c2a9-3de9-46bd-a002-c2c5d06ec0d5"
      },
      "execution_count": null,
      "outputs": [
        {
          "output_type": "execute_result",
          "data": {
            "text/plain": [
              "   R&D Spend  Administration  Marketing Spend       State     Profit\n",
              "0  165349.20       136897.80        471784.10    New York  192261.83\n",
              "1  162597.70       151377.59        443898.53  California  191792.06\n",
              "2  153441.51       101145.55        407934.54     Florida  191050.39\n",
              "3  144372.41       118671.85        383199.62    New York  182901.99\n",
              "4  142107.34        91391.77        366168.42     Florida  166187.94"
            ],
            "text/html": [
              "\n",
              "  <div id=\"df-b3ba240f-41c5-43dc-b80a-5be29499fbf3\">\n",
              "    <div class=\"colab-df-container\">\n",
              "      <div>\n",
              "<style scoped>\n",
              "    .dataframe tbody tr th:only-of-type {\n",
              "        vertical-align: middle;\n",
              "    }\n",
              "\n",
              "    .dataframe tbody tr th {\n",
              "        vertical-align: top;\n",
              "    }\n",
              "\n",
              "    .dataframe thead th {\n",
              "        text-align: right;\n",
              "    }\n",
              "</style>\n",
              "<table border=\"1\" class=\"dataframe\">\n",
              "  <thead>\n",
              "    <tr style=\"text-align: right;\">\n",
              "      <th></th>\n",
              "      <th>R&amp;D Spend</th>\n",
              "      <th>Administration</th>\n",
              "      <th>Marketing Spend</th>\n",
              "      <th>State</th>\n",
              "      <th>Profit</th>\n",
              "    </tr>\n",
              "  </thead>\n",
              "  <tbody>\n",
              "    <tr>\n",
              "      <th>0</th>\n",
              "      <td>165349.20</td>\n",
              "      <td>136897.80</td>\n",
              "      <td>471784.10</td>\n",
              "      <td>New York</td>\n",
              "      <td>192261.83</td>\n",
              "    </tr>\n",
              "    <tr>\n",
              "      <th>1</th>\n",
              "      <td>162597.70</td>\n",
              "      <td>151377.59</td>\n",
              "      <td>443898.53</td>\n",
              "      <td>California</td>\n",
              "      <td>191792.06</td>\n",
              "    </tr>\n",
              "    <tr>\n",
              "      <th>2</th>\n",
              "      <td>153441.51</td>\n",
              "      <td>101145.55</td>\n",
              "      <td>407934.54</td>\n",
              "      <td>Florida</td>\n",
              "      <td>191050.39</td>\n",
              "    </tr>\n",
              "    <tr>\n",
              "      <th>3</th>\n",
              "      <td>144372.41</td>\n",
              "      <td>118671.85</td>\n",
              "      <td>383199.62</td>\n",
              "      <td>New York</td>\n",
              "      <td>182901.99</td>\n",
              "    </tr>\n",
              "    <tr>\n",
              "      <th>4</th>\n",
              "      <td>142107.34</td>\n",
              "      <td>91391.77</td>\n",
              "      <td>366168.42</td>\n",
              "      <td>Florida</td>\n",
              "      <td>166187.94</td>\n",
              "    </tr>\n",
              "  </tbody>\n",
              "</table>\n",
              "</div>\n",
              "      <button class=\"colab-df-convert\" onclick=\"convertToInteractive('df-b3ba240f-41c5-43dc-b80a-5be29499fbf3')\"\n",
              "              title=\"Convert this dataframe to an interactive table.\"\n",
              "              style=\"display:none;\">\n",
              "        \n",
              "  <svg xmlns=\"http://www.w3.org/2000/svg\" height=\"24px\"viewBox=\"0 0 24 24\"\n",
              "       width=\"24px\">\n",
              "    <path d=\"M0 0h24v24H0V0z\" fill=\"none\"/>\n",
              "    <path d=\"M18.56 5.44l.94 2.06.94-2.06 2.06-.94-2.06-.94-.94-2.06-.94 2.06-2.06.94zm-11 1L8.5 8.5l.94-2.06 2.06-.94-2.06-.94L8.5 2.5l-.94 2.06-2.06.94zm10 10l.94 2.06.94-2.06 2.06-.94-2.06-.94-.94-2.06-.94 2.06-2.06.94z\"/><path d=\"M17.41 7.96l-1.37-1.37c-.4-.4-.92-.59-1.43-.59-.52 0-1.04.2-1.43.59L10.3 9.45l-7.72 7.72c-.78.78-.78 2.05 0 2.83L4 21.41c.39.39.9.59 1.41.59.51 0 1.02-.2 1.41-.59l7.78-7.78 2.81-2.81c.8-.78.8-2.07 0-2.86zM5.41 20L4 18.59l7.72-7.72 1.47 1.35L5.41 20z\"/>\n",
              "  </svg>\n",
              "      </button>\n",
              "      \n",
              "  <style>\n",
              "    .colab-df-container {\n",
              "      display:flex;\n",
              "      flex-wrap:wrap;\n",
              "      gap: 12px;\n",
              "    }\n",
              "\n",
              "    .colab-df-convert {\n",
              "      background-color: #E8F0FE;\n",
              "      border: none;\n",
              "      border-radius: 50%;\n",
              "      cursor: pointer;\n",
              "      display: none;\n",
              "      fill: #1967D2;\n",
              "      height: 32px;\n",
              "      padding: 0 0 0 0;\n",
              "      width: 32px;\n",
              "    }\n",
              "\n",
              "    .colab-df-convert:hover {\n",
              "      background-color: #E2EBFA;\n",
              "      box-shadow: 0px 1px 2px rgba(60, 64, 67, 0.3), 0px 1px 3px 1px rgba(60, 64, 67, 0.15);\n",
              "      fill: #174EA6;\n",
              "    }\n",
              "\n",
              "    [theme=dark] .colab-df-convert {\n",
              "      background-color: #3B4455;\n",
              "      fill: #D2E3FC;\n",
              "    }\n",
              "\n",
              "    [theme=dark] .colab-df-convert:hover {\n",
              "      background-color: #434B5C;\n",
              "      box-shadow: 0px 1px 3px 1px rgba(0, 0, 0, 0.15);\n",
              "      filter: drop-shadow(0px 1px 2px rgba(0, 0, 0, 0.3));\n",
              "      fill: #FFFFFF;\n",
              "    }\n",
              "  </style>\n",
              "\n",
              "      <script>\n",
              "        const buttonEl =\n",
              "          document.querySelector('#df-b3ba240f-41c5-43dc-b80a-5be29499fbf3 button.colab-df-convert');\n",
              "        buttonEl.style.display =\n",
              "          google.colab.kernel.accessAllowed ? 'block' : 'none';\n",
              "\n",
              "        async function convertToInteractive(key) {\n",
              "          const element = document.querySelector('#df-b3ba240f-41c5-43dc-b80a-5be29499fbf3');\n",
              "          const dataTable =\n",
              "            await google.colab.kernel.invokeFunction('convertToInteractive',\n",
              "                                                     [key], {});\n",
              "          if (!dataTable) return;\n",
              "\n",
              "          const docLinkHtml = 'Like what you see? Visit the ' +\n",
              "            '<a target=\"_blank\" href=https://colab.research.google.com/notebooks/data_table.ipynb>data table notebook</a>'\n",
              "            + ' to learn more about interactive tables.';\n",
              "          element.innerHTML = '';\n",
              "          dataTable['output_type'] = 'display_data';\n",
              "          await google.colab.output.renderOutput(dataTable, element);\n",
              "          const docLink = document.createElement('div');\n",
              "          docLink.innerHTML = docLinkHtml;\n",
              "          element.appendChild(docLink);\n",
              "        }\n",
              "      </script>\n",
              "    </div>\n",
              "  </div>\n",
              "  "
            ]
          },
          "metadata": {},
          "execution_count": 39
        }
      ]
    },
    {
      "cell_type": "code",
      "source": [
        "# Data visualisation\n",
        "# Building the Correlation matrix\n",
        "\n",
        "sns.heatmap(companies.corr())"
      ],
      "metadata": {
        "colab": {
          "base_uri": "https://localhost:8080/",
          "height": 611
        },
        "id": "X6Irtq_2rtia",
        "outputId": "0c32250f-0616-421f-f8ca-4871aba7b09c"
      },
      "execution_count": null,
      "outputs": [
        {
          "output_type": "stream",
          "name": "stderr",
          "text": [
            "<ipython-input-40-89631441dc9c>:4: FutureWarning: The default value of numeric_only in DataFrame.corr is deprecated. In a future version, it will default to False. Select only valid columns or specify the value of numeric_only to silence this warning.\n",
            "  sns.heatmap(companies.corr())\n"
          ]
        },
        {
          "output_type": "execute_result",
          "data": {
            "text/plain": [
              "<Axes: >"
            ]
          },
          "metadata": {},
          "execution_count": 40
        },
        {
          "output_type": "display_data",
          "data": {
            "text/plain": [
              "<Figure size 640x480 with 2 Axes>"
            ],
            "image/png": "[encoded data removed]"
          },
          "metadata": {}
        }
      ]
    },
    {
      "cell_type": "code",
      "source": [
        "# Encoding categorical data\n",
        "from sklearn.preprocessing import LabelEncoder, OneHotEncoder\n",
        "\n",
        "column_transformer = ColumnTransformer(\n",
        "    transformers=[(\"encoder\", OneHotEncoder(), [3])], \n",
        "    remainder=\"passthrough\"\n",
        ")\n",
        "\n",
        "X = column_transformer.fit_transform(X)"
      ],
      "metadata": {
        "id": "_FG9pwlNtKfF"
      },
      "execution_count": null,
      "outputs": []
    },
    {
      "cell_type": "code",
      "source": [
        "X = X[:, 1:]"
      ],
      "metadata": {
        "id": "MuUh52eiwUPO"
      },
      "execution_count": null,
      "outputs": []
    },
    {
      "cell_type": "code",
      "source": [
        "# Splitting the dataset into the Training set and Test set\n",
        "from sklearn.model_selection import train_test_split\n",
        "X_train, X_test, y_train, y_test = train_test_split(X, y, test_size=0.5, random_state=0)"
      ],
      "metadata": {
        "id": "ywkGH5r6xR06"
      },
      "execution_count": null,
      "outputs": []
    },
    {
      "cell_type": "code",
      "source": [
        "# Fitting Multiple Linear Regression to the Training set\n",
        "from sklearn.linear_model import LinearRegression\n",
        "regressor = LinearRegression()\n",
        "regressor.fit(X_train, y_train)"
      ],
      "metadata": {
        "colab": {
          "base_uri": "https://localhost:8080/",
          "height": 74
        },
        "id": "25t0uDSsxvuU",
        "outputId": "25bdffdc-31fe-4d27-c1eb-4ebcfe75cdbf"
      },
      "execution_count": null,
      "outputs": [
        {
          "output_type": "execute_result",
          "data": {
            "text/plain": [
              "LinearRegression()"
            ],
            "text/html": [
              "<style>#sk-container-id-9 {color: black;background-color: white;}#sk-container-id-9 pre{padding: 0;}#sk-container-id-9 div.sk-toggleable {background-color: white;}#sk-container-id-9 label.sk-toggleable__label {cursor: pointer;display: block;width: 100%;margin-bottom: 0;padding: 0.3em;box-sizing: border-box;text-align: center;}#sk-container-id-9 label.sk-toggleable__label-arrow:before {content: \"▸\";float: left;margin-right: 0.25em;color: #696969;}#sk-container-id-9 label.sk-toggleable__label-arrow:hover:before {color: black;}#sk-container-id-9 div.sk-estimator:hover label.sk-toggleable__label-arrow:before {color: black;}#sk-container-id-9 div.sk-toggleable__content {max-height: 0;max-width: 0;overflow: hidden;text-align: left;background-color: #f0f8ff;}#sk-container-id-9 div.sk-toggleable__content pre {margin: 0.2em;color: black;border-radius: 0.25em;background-color: #f0f8ff;}#sk-container-id-9 input.sk-toggleable__control:checked~div.sk-toggleable__content {max-height: 200px;max-width: 100%;overflow: auto;}#sk-container-id-9 input.sk-toggleable__control:checked~label.sk-toggleable__label-arrow:before {content: \"▾\";}#sk-container-id-9 div.sk-estimator input.sk-toggleable__control:checked~label.sk-toggleable__label {background-color: #d4ebff;}#sk-container-id-9 div.sk-label input.sk-toggleable__control:checked~label.sk-toggleable__label {background-color: #d4ebff;}#sk-container-id-9 input.sk-hidden--visually {border: 0;clip: rect(1px 1px 1px 1px);clip: rect(1px, 1px, 1px, 1px);height: 1px;margin: -1px;overflow: hidden;padding: 0;position: absolute;width: 1px;}#sk-container-id-9 div.sk-estimator {font-family: monospace;background-color: #f0f8ff;border: 1px dotted black;border-radius: 0.25em;box-sizing: border-box;margin-bottom: 0.5em;}#sk-container-id-9 div.sk-estimator:hover {background-color: #d4ebff;}#sk-container-id-9 div.sk-parallel-item::after {content: \"\";width: 100%;border-bottom: 1px solid gray;flex-grow: 1;}#sk-container-id-9 div.sk-label:hover label.sk-toggleable__label {background-color: #d4ebff;}#sk-container-id-9 div.sk-serial::before {content: \"\";position: absolute;border-left: 1px solid gray;box-sizing: border-box;top: 0;bottom: 0;left: 50%;z-index: 0;}#sk-container-id-9 div.sk-serial {display: flex;flex-direction: column;align-items: center;background-color: white;padding-right: 0.2em;padding-left: 0.2em;position: relative;}#sk-container-id-9 div.sk-item {position: relative;z-index: 1;}#sk-container-id-9 div.sk-parallel {display: flex;align-items: stretch;justify-content: center;background-color: white;position: relative;}#sk-container-id-9 div.sk-item::before, #sk-container-id-9 div.sk-parallel-item::before {content: \"\";position: absolute;border-left: 1px solid gray;box-sizing: border-box;top: 0;bottom: 0;left: 50%;z-index: -1;}#sk-container-id-9 div.sk-parallel-item {display: flex;flex-direction: column;z-index: 1;position: relative;background-color: white;}#sk-container-id-9 div.sk-parallel-item:first-child::after {align-self: flex-end;width: 50%;}#sk-container-id-9 div.sk-parallel-item:last-child::after {align-self: flex-start;width: 50%;}#sk-container-id-9 div.sk-parallel-item:only-child::after {width: 0;}#sk-container-id-9 div.sk-dashed-wrapped {border: 1px dashed gray;margin: 0 0.4em 0.5em 0.4em;box-sizing: border-box;padding-bottom: 0.4em;background-color: white;}#sk-container-id-9 div.sk-label label {font-family: monospace;font-weight: bold;display: inline-block;line-height: 1.2em;}#sk-container-id-9 div.sk-label-container {text-align: center;}#sk-container-id-9 div.sk-container {/* jupyter's `normalize.less` sets `[hidden] { display: none; }` but bootstrap.min.css set `[hidden] { display: none !important; }` so we also need the `!important` here to be able to override the default hidden behavior on the sphinx rendered scikit-learn.org. See: https://github.com/scikit-learn/scikit-learn/issues/21755 */display: inline-block !important;position: relative;}#sk-container-id-9 div.sk-text-repr-fallback {display: none;}</style><div id=\"sk-container-id-9\" class=\"sk-top-container\"><div class=\"sk-text-repr-fallback\"><pre>LinearRegression()</pre><b>In a Jupyter environment, please rerun this cell to show the HTML representation or trust the notebook. <br />On GitHub, the HTML representation is unable to render, please try loading this page with nbviewer.org.</b></div><div class=\"sk-container\" hidden><div class=\"sk-item\"><div class=\"sk-estimator sk-toggleable\"><input class=\"sk-toggleable__control sk-hidden--visually\" id=\"sk-estimator-id-9\" type=\"checkbox\" checked><label for=\"sk-estimator-id-9\" class=\"sk-toggleable__label sk-toggleable__label-arrow\">LinearRegression</label><div class=\"sk-toggleable__content\"><pre>LinearRegression()</pre></div></div></div></div></div>"
            ]
          },
          "metadata": {},
          "execution_count": 86
        }
      ]
    },
    {
      "cell_type": "code",
      "source": [
        "# Predicting the Test set results\n",
        "y_pred = regressor.predict(X_test)\n",
        "y_pred"
      ],
      "metadata": {
        "colab": {
          "base_uri": "https://localhost:8080/"
        },
        "id": "DVJswuJOyQeM",
        "outputId": "602c0dc4-5384-43b7-c950-9718adcc2eec"
      },
      "execution_count": null,
      "outputs": [
        {
          "output_type": "execute_result",
          "data": {
            "text/plain": [
              "array([ 89012.02672078,  87654.55773078,  94093.35179078, 175396.26159972,\n",
              "        83356.61783953, 110395.79399954, 105008.30999971,  90687.29210078,\n",
              "       164180.27019958,  53483.75717963,  66273.35330076, 150393.7159997 ,\n",
              "       125971.2343008 ,  58694.93455076, 176344.52500084,  75297.23304952,\n",
              "       118219.39439968, 163462.66540083, 132602.64999997, 181574.49679959,\n",
              "        97483.55999954,  84909.71956077, 180684.32519972,  83391.64379077,\n",
              "       104159.46700079, 100404.00210079,  64926.07999923,  56944.49152951,\n",
              "        68210.88613076, 191792.06000082, 120738.69969968, 110848.56850079,\n",
              "       101352.26559954, 137842.46719969,  63306.39937076, 107994.38100079,\n",
              "       185502.5284996 , 171176.91649972, 174364.27759972, 117645.31059968,\n",
              "        96616.92849953, 164336.60550083, 106865.86210079,  50468.96293963,\n",
              "       116492.87149968,  57992.70704076, 158208.77349971,  78689.62407965,\n",
              "       159514.13069971, 131051.70509969, 184555.11939973, 174329.25159972,\n",
              "        92949.45565078,  78308.61012952, 180257.17949959,  84583.38024966,\n",
              "       142762.3311997 , 170174.83269959,  84305.73555953, 105154.71649954,\n",
              "       141527.0258997 ,  52609.8171095 , 140832.48700081, 138872.74259956,\n",
              "        97478.05420078, 113578.88369968, 126506.02069956, 151774.25089957,\n",
              "        58918.75888951, 174007.18379972, 123690.2763008 , 167934.02640083,\n",
              "        91370.72518966, 155791.12889958,  83553.10486077,  77847.29278952,\n",
              "       120375.62579968,  93280.92069953, 138022.72270081, 142586.34720081,\n",
              "       170883.89449972, 139080.33540081, 106212.32919954, 154569.49220082,\n",
              "       139722.76249956, 109998.54849954,  68984.01982076,  88072.30620953,\n",
              "       139130.73860081, 148134.11529957, 157529.61179958,  57893.60924076,\n",
              "        93606.40570953, 112642.58029968,  56620.71509951, 107252.85609954,\n",
              "       147194.3947997 , 151782.79379957, 167377.02849958, 117842.6519008 ,\n",
              "       120723.32239968, 138908.62279969, 157142.61779958, 121916.76749968,\n",
              "        87019.81923953, 104824.10569967,  95226.99643953, 177911.29539959,\n",
              "       180753.52280084, 109658.54059954, 164139.26420083, 166679.92670083,\n",
              "       157615.04099958, 174320.70869959, 169059.98250083,  51690.59960075,\n",
              "       175771.29550084, 103906.59680079,  81963.26862077, 138588.26359956,\n",
              "       144130.0516997 , 161456.78929971, 169404.26189971, 120412.36029968,\n",
              "       158670.94509971, 109344.16130079, 169235.11219958,  60111.34964076,\n",
              "       157949.92320082, 157086.23460082, 174050.75269959, 155915.00109958,\n",
              "       102873.75850079,  85570.94107953, 140594.13970081, 165495.02459958,\n",
              "       121140.21659968, 152211.76999958, 100556.06599967,  82229.80751965,\n",
              "       177468.77240084, 100958.43720079,  70509.78420952,  90164.46577953,\n",
              "        61291.12601951,  68921.65654952,  72949.64035965, 175747.37530084,\n",
              "        89803.10052966,  96712.80000068,  92758.09437966,  99937.58999965,\n",
              "       171687.78270083,  60243.76480076, 168760.98049971, 165330.14630083,\n",
              "       165186.62539971, 102213.39129967, 181102.07359959,  73872.27503965,\n",
              "        90482.26217078, 134808.02420081,  64950.05595951,  71772.42684952,\n",
              "        60650.40748951, 183965.65829972, 175999.39129972, 158516.31839958,\n",
              "       141046.05979957, 154238.88149957,  58605.23394951,  90712.92083966,\n",
              "       152520.90149957, 168145.89069971,  72478.92581952, 116045.22289968,\n",
              "        80229.05712965, 149477.91569957, 116603.07509955, 129232.9188008 ,\n",
              "       174254.92829972, 476485.42999507, 145240.63050082, 150292.05529957,\n",
              "        86221.91109966,  70153.54469965,  70282.54269965,  68347.57275076,\n",
              "       120445.67769955,  89594.65342953, 166579.12029971, 124577.0308008 ,\n",
              "        67226.74246951, 156991.11999967, 117637.6220008 , 164779.98270083,\n",
              "       168402.17809971, 145976.17530082, 141082.79439957, 108917.01569954,\n",
              "        81824.87341077, 156340.43819971, 135591.40940081,  60065.21791076,\n",
              "       142927.20939957, 175826.82440084,  87219.72341953, 135641.81260081,\n",
              "       169403.40759971,  94974.98048953, 136286.80260081, 126058.37199956,\n",
              "        89949.14000075,  71235.93186965, 166415.95069958, 138841.98809969,\n",
              "       126993.82109956, 137670.75459969,  78239.91000072, 129889.86880081,\n",
              "       169745.12409971, 108896.51269967, 123671.48189968, 117289.07109955,\n",
              "        59981.49735076, 126295.86499956, 178552.86820084,  54119.34995964,\n",
              "       124266.89999976, 172937.61099972,  69995.50079952, 151992.0951997 ,\n",
              "       134268.96639956,  59766.21593076,  85842.60572966,  84782.43013953,\n",
              "        98397.27171954,  76229.26493952, 127455.1384008 , 110228.35289954,\n",
              "        59342.48741076, 101119.04400079, 146874.03560082, 158160.07890082,\n",
              "       161035.62359958, 184979.7021996 ,  55832.20415951, 191050.38999958,\n",
              "        67282.27140951, 163155.12050083,  64349.48912964,  59264.74688964,\n",
              "       140237.90019956,  62223.15790951,  60947.70089076, 128977.4856008 ,\n",
              "       167373.61130083, 120790.81139968,  65743.69264964,  81229.05999933,\n",
              "       146690.3628997 , 177513.19559959, 174996.45320084, 138079.10590081,\n",
              "        76356.55435077, 180257.17949972, 104862.54880079, 102274.04599954,\n",
              "       172384.03020083, 128937.33389956, 144287.24129957, 120617.3903008 ,\n",
              "       123485.24639955, 105674.97989967,  74208.01154952, 110363.33100079,\n",
              "        80859.52416952, 151804.1510997 , 126117.31809968,  65814.59882964,\n",
              "        77362.05528965,  92289.08842078, 156147.36839971, 144184.7262997 ,\n",
              "       164330.62539971,  81005.7600008 ,  99201.15990078, 159173.26840083,\n",
              "       141472.35120081,  89915.86698966,  98776.57708967, 169661.40360083,\n",
              "       181441.22729972, 140251.56889969, 158565.86730083, 142289.05379957,\n",
              "       333962.1899981 , 138855.65680081, 143333.85210081, 146121.94999952,\n",
              "        87218.86912953,  94409.43959966,  77242.45450077, 105740.76029967,\n",
              "       126436.8231008 , 102833.60680079, 170465.29180083,  63978.72667964,\n",
              "        73154.67029077, 167391.55139971,  91623.59543966, 151891.28880082,\n",
              "        54971.93274964, 118474.03000077, 176018.18570084,  51913.56964075,\n",
              "       156182.39429971,  73733.02554965, 144515.33709957,  14681.40000127,\n",
              "       106401.12759954, 103171.05189967,  52481.67341075, 114806.50040079,\n",
              "        91977.27207078, 162733.95489971,  35673.40999968,  65664.24354964,\n",
              "       110023.32299967, 168246.69709958, 140589.86820081, 132897.82869969,\n",
              "        59328.81873964,  79170.59012952, 125867.01079968, 157325.43619958,\n",
              "        50116.9948895 , 103404.27339954,  58666.74292964, 161630.21039958,\n",
              "        76017.40067965, 184887.43869973,  73896.19519965, 141585.5199995 ,\n",
              "       169572.55729971, 154351.64790082, 138793.29349956,  49490.74999977,\n",
              "       163883.83109971, 182876.43680084, 104723.29930079, 128060.8310008 ,\n",
              "       145711.3449997 , 172495.08809959, 109877.23919954, 154173.10099957,\n",
              "       169623.81479959, 159247.59179971, 156488.23070082, 108421.52669967,\n",
              "        91240.87290953, 125370.36999964,  63814.70272964, 126997.23819956,\n",
              "       116529.6061008 , 159509.00489971, 111814.77199955, 100435.61090079,\n",
              "        66656.07582951,  51256.6195795 ,  54932.63534951, 111138.17320079,\n",
              "        67199.40514076,  57143.54142076, 136845.50919969, 160935.67149958,\n",
              "       164424.59750083,  56775.34184076,  96793.76682078,  73577.54451965,\n",
              "       124269.4859008 , 144750.26719957,  88648.95288953,  77627.73990965,\n",
              "       169564.86869971, 106235.39499967, 116205.8296008 , 161123.61559958,\n",
              "       111313.01999966, 173519.38339972, 159431.26439958, 140872.63870081,\n",
              "        51336.06868075, 184581.60240084,  96479.50999943,  72607.06951952,\n",
              "       119743.4502008 ,  73790.26306952,  74324.19518077, 158961.40419958,\n",
              "        79808.74577965,  68872.96194076,  76545.35274077, 152134.76179957,\n",
              "        77667.89159965,  60408.64303951, 115980.2967008 ,  68648.28330965,\n",
              "       100992.60889967, 170464.43749959, 173531.34349972, 154765.97920082,\n",
              "       128337.62139956, 103378.64469954, 145680.59050082, 171651.90249972,\n",
              "       142490.66649957, 166402.28199958,  52325.33808075, 181391.67839959,\n",
              "        94294.11026078,  55195.75708964,  91790.18225966, 166902.04250083,\n",
              "        85529.93509077,  80066.74177077, 159389.40410083, 105582.71639954,\n",
              "       155881.68380082,  57541.64119964,  83178.92523966,  86613.17655078,\n",
              "        68669.64059076, 180378.48880084,  98444.25773954,  68160.48294076,\n",
              "       148944.83779957,  86313.32028078, 130427.21810081, 184865.22709973,\n",
              "       133834.13209956, 178296.58079972, 104231.22749954, 149792.2948997 ,\n",
              "        86636.24241953, 177442.28940084, 113472.95150079, 121927.87319968,\n",
              "       160667.42399971, 111643.05940079, 103903.17959954, 113444.75989955,\n",
              "       160000.22249958,  82522.82945953,  66007.66867951,  86983.93899953,\n",
              "        97882.98831078, 185352.17319973, 100693.60690079,  52086.1364995 ,\n",
              "       167407.78300083, 129917.03999982, 134122.88259969,  64672.41126964,\n",
              "        70902.75824076, 156122.51000084, 138213.22959969, 183093.42680084,\n",
              "       123648.4161008 ,  88481.51177953, 102771.24349954, 114373.37459968,\n",
              "        98500.64097967, 173336.56509959,  75445.02545952, 142852.03179957,\n",
              "       117700.8395008 , 107019.63449967,  82155.48418077,  63662.63887076,\n",
              "       150475.72800082, 172769.31560083,  88027.88306078, 110352.24999976,\n",
              "       171235.86259972,  78153.12909952, 141180.18360081,  54300.45972951,\n",
              "       111257.77399954, 110963.89780079, 182059.73429972,  63924.90631951,\n",
              "        76487.26093077,  79796.78569952,  94297.52743078, 137719.44919969,\n",
              "       156935.87930082, 172615.54320083, 118944.68779955,  92485.57542953])"
            ]
          },
          "metadata": {},
          "execution_count": 87
        }
      ]
    },
    {
      "cell_type": "code",
      "source": [
        "# Calculating the Coefficients \n",
        "print(regressor.coef_)"
      ],
      "metadata": {
        "colab": {
          "base_uri": "https://localhost:8080/"
        },
        "id": "dQapp8ezy7qX",
        "outputId": "7bed88f4-9b8b-4287-d753-a88f4a1b0874"
      },
      "execution_count": null,
      "outputs": [
        {
          "output_type": "stream",
          "name": "stdout",
          "text": [
            "[0.00000000e+00 0.00000000e+00 0.00000000e+00 ... 1.27320654e-11\n",
            " 5.49574275e-13 1.00000000e+00]\n"
          ]
        }
      ]
    },
    {
      "cell_type": "code",
      "source": [
        "# Calculating the Intercept\n",
        "print(regressor.intercept_)"
      ],
      "metadata": {
        "colab": {
          "base_uri": "https://localhost:8080/"
        },
        "id": "58uJrOTPzFwb",
        "outputId": "41e9890d-9785-49cf-bcb0-fd53487132ec"
      },
      "execution_count": null,
      "outputs": [
        {
          "output_type": "stream",
          "name": "stdout",
          "text": [
            "1.4698744053021073e-06\n"
          ]
        }
      ]
    },
    {
      "cell_type": "code",
      "source": [
        "# Calculating the R squared value\n",
        "from sklearn.metrics import r2_score\n",
        "r2_score(y_test, y_pred)"
      ],
      "metadata": {
        "colab": {
          "base_uri": "https://localhost:8080/"
        },
        "id": "gZX0pkkCzM2j",
        "outputId": "a81c41d6-53a4-40dc-98d1-5bba0e586842"
      },
      "execution_count": null,
      "outputs": [
        {
          "output_type": "execute_result",
          "data": {
            "text/plain": [
              "1.0"
            ]
          },
          "metadata": {},
          "execution_count": 90
        }
      ]
    },
    {
      "cell_type": "code",
      "source": [],
      "metadata": {
        "id": "pot_GYh44I92"
      },
      "execution_count": null,
      "outputs": []
    }
  ]
}